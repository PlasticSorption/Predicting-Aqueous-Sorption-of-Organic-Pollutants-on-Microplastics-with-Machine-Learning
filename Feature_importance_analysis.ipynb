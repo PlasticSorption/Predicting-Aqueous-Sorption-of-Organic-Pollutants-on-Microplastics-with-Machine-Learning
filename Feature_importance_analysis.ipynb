{
 "cells": [
  {
   "cell_type": "code",
   "execution_count": 1,
   "metadata": {},
   "outputs": [
    {
     "name": "stderr",
     "output_type": "stream",
     "text": [
      "C:\\Users\\mero_\\AppData\\Roaming\\Python\\Python38\\site-packages\\scipy\\__init__.py:173: UserWarning: A NumPy version >=1.19.5 and <1.27.0 is required for this version of SciPy (detected version 1.19.2)\n",
      "  warnings.warn(f\"A NumPy version >={np_minversion} and <{np_maxversion}\"\n"
     ]
    }
   ],
   "source": [
    "%matplotlib inline\n",
    "import matplotlib.pyplot as plt\n",
    "plt.rcParams[\"figure.figsize\"] = (11, 11)  #set default figure size\n",
    "import numpy as np\n",
    "import os \n",
    "import pandas as pd\n",
    "from ailearn.Swarm import ES\n",
    "import seaborn as sns\n",
    "from sklearn.model_selection import train_test_split\n",
    "from sklearn.preprocessing import StandardScaler, MinMaxScaler\n",
    "from sklearn.gaussian_process import GaussianProcessRegressor\n",
    "from sklearn.gaussian_process.kernels import RBF, WhiteKernel, DotProduct, ConstantKernel as C\n",
    "from sklearn.svm import SVC,SVR\n",
    "from sklearn.metrics import mean_squared_error,r2_score\n",
    "from scipy.optimize import leastsq\n",
    "from sklearn.model_selection import GridSearchCV\n",
    "import matplotlib.pylab as plt\n",
    "from sklearn import preprocessing"
   ]
  },
  {
   "cell_type": "markdown",
   "metadata": {},
   "source": [
    "# Important functions"
   ]
  },
  {
   "cell_type": "code",
   "execution_count": 2,
   "metadata": {},
   "outputs": [],
   "source": [
    "## Seperate training and test data\n",
    "def split(xx, yy):\n",
    "    zscore = StandardScaler()        \n",
    "    scaler =MinMaxScaler()   \n",
    "    xx = zscore.fit_transform(xx)  \n",
    "    yy = scaler.fit_transform(np.reshape(yy.values,(len(yy),1))) \n",
    "    x_train, x_test_val, y_train, y_test_val = train_test_split(xx, yy, shuffle=True,test_size=0.4, random_state=1)\n",
    "    x_test, x_val, y_test, y_val = train_test_split(x_test_val, y_test_val, shuffle=True,test_size=0.25, random_state=1)\n",
    "    y2 = yy.ravel()\n",
    "    ind_train = [np.argwhere(y2 == y_train[i])[0].item() for i in range(len(y_train)) if y_train[i] in y2]\n",
    "    ind_test = [np.argwhere(y2 == y_test[i])[0].item() for i in range(len(y_test)) if y_test[i] in y2]\n",
    "    ind_val = [np.argwhere(y2 == y_val[i])[0].item() for i in range(len(y_val)) if y_val[i] in y2]\n",
    "    y_train = y_train.ravel()\n",
    "    y_test = y_test.ravel()\n",
    "    y_val = y_val.ravel()\n",
    "    return x_train, x_test,x_val, y_train, y_test,y_val, xx, yy, np.asarray(ind_train), np.asarray(ind_test), np.asarray(ind_val)"
   ]
  },
  {
   "cell_type": "code",
   "execution_count": 3,
   "metadata": {},
   "outputs": [],
   "source": [
    "# inverse predictive values\n",
    "def inverse_scaler(y_scaled, y_true):\n",
    "    scaler =MinMaxScaler()   \n",
    "    scaler.fit(np.reshape(yy.values,(len(yy),1))) \n",
    "    y_inverse = scaler.inverse_transform(y_scaled.reshape(-1,1))\n",
    "    return y_inverse"
   ]
  },
  {
   "cell_type": "markdown",
   "metadata": {},
   "source": [
    "### import data"
   ]
  },
  {
   "cell_type": "code",
   "execution_count": 9,
   "metadata": {},
   "outputs": [
    {
     "name": "stdout",
     "output_type": "stream",
     "text": [
      "original datasize: (475, 11)\n",
      "adjusted datasize: (474, 11)\n",
      "data:\n",
      "           Kd   SSA        C%       H/C       O/C     E     S     A     B  \\\n",
      "0   24.014337  0.04  0.683575  0.147232  0.157833  1.73  1.55  0.47  0.45   \n",
      "1   37.981913  0.04  0.632581  0.139353  0.220736  1.73  1.55  0.47  0.45   \n",
      "2   50.563768  0.04  0.592297  0.132170  0.278086  1.73  1.55  0.47  0.45   \n",
      "3  103.582271  0.04  0.444276  0.094589  0.578131  1.73  1.55  0.47  0.45   \n",
      "4   66.880171  0.04  0.654811  0.142939  0.192110  1.73  1.55  0.47  0.45   \n",
      "\n",
      "        V   log(Kd)  \n",
      "0  1.8088  1.380471  \n",
      "1  1.8088  1.579577  \n",
      "2  1.8088  1.703839  \n",
      "3  1.8088  2.015285  \n",
      "4  1.8088  1.825297  \n"
     ]
    }
   ],
   "source": [
    "df = pd.read_csv('data_6.csv', index_col=None, engine='c') \n",
    "print('original datasize:', df.shape)\n",
    "df.dropna(inplace=True)\n",
    "print('adjusted datasize:', df.shape)\n",
    "print('data:')\n",
    "print(df.head())"
   ]
  },
  {
   "cell_type": "code",
   "execution_count": 10,
   "metadata": {},
   "outputs": [
    {
     "name": "stdout",
     "output_type": "stream",
     "text": [
      "target is  log(Kd)\n",
      "predictors are  ['SSA', 'C%', 'H/C', 'O/C', 'E', 'S', 'A', 'B', 'V']\n",
      "samples size is  474 ; number of predictors is  9\n",
      "training data size is  284 ; test data size is  142 ; validation data size is  48\n"
     ]
    }
   ],
   "source": [
    "yy=df.iloc[:,-1]# target - kd\n",
    "xx= df.iloc[:,1:-1] # predictors\n",
    "x_train, x_test,x_val, y_train, y_test,y_val, x_scaled, y_scaled, ind_train, ind_test,ind_val = split(xx, yy)\n",
    "\n",
    "\n",
    "print('target is ', yy.name)\n",
    "print('predictors are ', xx.columns.tolist())\n",
    "print('samples size is ', xx.shape[0], '; number of predictors is ', xx.shape[1])\n",
    "print('training data size is ', x_train.shape[0], '; test data size is ', x_test.shape[0],'; validation data size is ', x_val.shape[0])\n"
   ]
  },
  {
   "cell_type": "markdown",
   "metadata": {},
   "source": [
    "# Extreme Gradient Boosting"
   ]
  },
  {
   "cell_type": "code",
   "execution_count": 11,
   "metadata": {},
   "outputs": [],
   "source": [
    "import pickle\n",
    "# load gpr model\n",
    "path='Models/'\n",
    "model_name = 'xgbr.pkl'\n",
    "with open(path+model_name,'rb') as f:\n",
    "    xgbr = pickle.load(f)\n",
    "y_pred_train = xgbr.predict(x_train)\n",
    "y_pred_test = xgbr.predict(x_test)    \n",
    "y_pred_val = xgbr.predict(x_val) \n"
   ]
  },
  {
   "cell_type": "markdown",
   "metadata": {},
   "source": [
    "# Gaussian Process Regression"
   ]
  },
  {
   "cell_type": "code",
   "execution_count": 16,
   "metadata": {},
   "outputs": [],
   "source": [
    "import pickle\n",
    "# load gpr model\n",
    "path='Models/'\n",
    "model_name = 'gpr.pkl'\n",
    "with open(path+model_name,'rb') as f:\n",
    "    gpr = pickle.load(f)\n",
    "    \n",
    "y_pred_train = gpr.predict(x_train)    \n",
    "y_pred_test = gpr.predict(x_test)    \n",
    "y_pred_val = gpr.predict(x_val) \n"
   ]
  },
  {
   "cell_type": "markdown",
   "metadata": {},
   "source": [
    "# Genetic algorithm - Support vector machine"
   ]
  },
  {
   "cell_type": "code",
   "execution_count": 17,
   "metadata": {},
   "outputs": [],
   "source": [
    "import pickle\n",
    "# load gpr model\n",
    "model_name = 'GA_SVM.pkl'\n",
    "with open(path+model_name,'rb') as f:\n",
    "    ga_svm = pickle.load(f)\n",
    "    \n",
    "y_pred_train = ga_svm.predict(x_train)    \n",
    "y_pred_test = ga_svm.predict(x_test)    \n",
    "y_pred_val = ga_svm.predict(x_val)  "
   ]
  },
  {
   "cell_type": "markdown",
   "metadata": {},
   "source": [
    "# Sensitivity analysis"
   ]
  },
  {
   "cell_type": "code",
   "execution_count": 18,
   "metadata": {},
   "outputs": [],
   "source": [
    "def MSE(y_test, y_pred_test):\n",
    "    \n",
    "    return mean_squared_error(y_test, y_pred_test)\n",
    "\n",
    "def SA_base_on_MSE(model, x_Model, y_Model):\n",
    "    ### stepwise selection II is to set all values of one input variable to its mean (or others) \n",
    "    ### and examine the value of MSE under the change.\n",
    "\n",
    "    SA = pd.Series(index = x_Model.columns, dtype='object'  ) # create a table\n",
    "    x_train, x_test,x_val, y_train, y_test,y_val, x_scaled, y_scaled, ind_train, ind_test,ind_val= split(xx, yy)\n",
    "    # replace one parameter's values into its mean and examine its efficiency\n",
    "\n",
    "    for i in range(0, x_scaled.shape[1]) :\n",
    "        x_test_r = np.array(x_scaled) # copy x_test\n",
    "        x_test_r[:,i] = x_scaled[:,i].mean()\n",
    "        y_re_test=model.predict(x_test_r)\n",
    "        SA[i] = MSE(y_scaled, y_re_test)\n",
    "    return SA"
   ]
  },
  {
   "cell_type": "code",
   "execution_count": 19,
   "metadata": {},
   "outputs": [
    {
     "data": {
      "text/plain": [
       "<matplotlib.legend.Legend at 0x1990396c8b0>"
      ]
     },
     "execution_count": 19,
     "metadata": {},
     "output_type": "execute_result"
    },
    {
     "data": {
      "image/png": "[encoded data removed]",
      "text/plain": [
       "<Figure size 1080x432 with 1 Axes>"
      ]
     },
     "metadata": {
      "needs_background": "light"
     },
     "output_type": "display_data"
    }
   ],
   "source": [
    "SA_GA_pred = SA_base_on_MSE(ga_svm,xx,yy)\n",
    "SA_GPR_pred = SA_base_on_MSE(gpr,xx,yy)\n",
    "SA_XGBR_pred = SA_base_on_MSE(xgbr,xx,yy)\n",
    "\n",
    "x = np.arange(len(SA_GA_pred.index))  # the label locations\n",
    "width = 0.2  # the width of the bars\n",
    "\n",
    "fig, ax = plt.subplots(figsize=(15, 6))\n",
    "rects1 = ax.bar(x-width, SA_GA_pred.values , width, label='GA-SVM')\n",
    "rects2 = ax.bar(x, SA_XGBR_pred.values , width, label='XGBR')\n",
    "rects3 = ax.bar(x + width, SA_GPR_pred.values, width, label='GPR')\n",
    "\n",
    "# Add some text for labels, title and custom x-axis tick labels, etc.\n",
    "ax.set_ylabel('RMSE')\n",
    "ax.set_title('Sensitive Analysis')\n",
    "ax.set_xticks(x)\n",
    "ax.set_xticklabels(SA_GA_pred.index)\n",
    "ax.legend(loc='best')"
   ]
  },
  {
   "cell_type": "markdown",
   "metadata": {},
   "source": [
    "# Sobol index with Scipy generate samples"
   ]
  },
  {
   "cell_type": "code",
   "execution_count": 21,
   "metadata": {},
   "outputs": [
    {
     "data": {
      "text/html": [
       "<div>\n",
       "<style scoped>\n",
       "    .dataframe tbody tr th:only-of-type {\n",
       "        vertical-align: middle;\n",
       "    }\n",
       "\n",
       "    .dataframe tbody tr th {\n",
       "        vertical-align: top;\n",
       "    }\n",
       "\n",
       "    .dataframe thead th {\n",
       "        text-align: right;\n",
       "    }\n",
       "</style>\n",
       "<table border=\"1\" class=\"dataframe\">\n",
       "  <thead>\n",
       "    <tr style=\"text-align: right;\">\n",
       "      <th></th>\n",
       "      <th>min</th>\n",
       "      <th>max</th>\n",
       "    </tr>\n",
       "  </thead>\n",
       "  <tbody>\n",
       "    <tr>\n",
       "      <th>SSA</th>\n",
       "      <td>0.000334</td>\n",
       "      <td>877.000000</td>\n",
       "    </tr>\n",
       "    <tr>\n",
       "      <th>C%</th>\n",
       "      <td>0.384000</td>\n",
       "      <td>1.000000</td>\n",
       "    </tr>\n",
       "    <tr>\n",
       "      <th>H/C</th>\n",
       "      <td>0.066667</td>\n",
       "      <td>1.111111</td>\n",
       "    </tr>\n",
       "    <tr>\n",
       "      <th>O/C</th>\n",
       "      <td>0.000000</td>\n",
       "      <td>32.000000</td>\n",
       "    </tr>\n",
       "    <tr>\n",
       "      <th>E</th>\n",
       "      <td>-0.830000</td>\n",
       "      <td>3.600000</td>\n",
       "    </tr>\n",
       "    <tr>\n",
       "      <th>S</th>\n",
       "      <td>-0.130000</td>\n",
       "      <td>2022.000000</td>\n",
       "    </tr>\n",
       "    <tr>\n",
       "      <th>A</th>\n",
       "      <td>0.000000</td>\n",
       "      <td>2.030000</td>\n",
       "    </tr>\n",
       "    <tr>\n",
       "      <th>B</th>\n",
       "      <td>0.000000</td>\n",
       "      <td>3.500000</td>\n",
       "    </tr>\n",
       "    <tr>\n",
       "      <th>V</th>\n",
       "      <td>0.864200</td>\n",
       "      <td>9.476000</td>\n",
       "    </tr>\n",
       "  </tbody>\n",
       "</table>\n",
       "</div>"
      ],
      "text/plain": [
       "          min          max\n",
       "SSA  0.000334   877.000000\n",
       "C%   0.384000     1.000000\n",
       "H/C  0.066667     1.111111\n",
       "O/C  0.000000    32.000000\n",
       "E   -0.830000     3.600000\n",
       "S   -0.130000  2022.000000\n",
       "A    0.000000     2.030000\n",
       "B    0.000000     3.500000\n",
       "V    0.864200     9.476000"
      ]
     },
     "execution_count": 21,
     "metadata": {},
     "output_type": "execute_result"
    }
   ],
   "source": [
    "bounds = pd.DataFrame(index=xx.columns,columns=['min','max'])\n",
    "bounds['min'] = np.min(xx,0)\n",
    "bounds['max'] = np.max(xx,0)\n",
    "bounds"
   ]
  },
  {
   "cell_type": "code",
   "execution_count": 22,
   "metadata": {},
   "outputs": [
    {
     "name": "stdout",
     "output_type": "stream",
     "text": [
      "                  ST   ST_conf\n",
      "BET(m^2/g)  0.718470  0.093943\n",
      "C%          0.223083  0.029521\n",
      "H/C         0.906157  0.115337\n",
      "O/C         0.249409  0.027652\n",
      "E           0.661732  0.069566\n",
      "S           0.410961  0.048825\n",
      "A           0.572887  0.082865\n",
      "B           0.233968  0.024141\n",
      "V           0.554690  0.076147\n",
      "                  S1   S1_conf\n",
      "BET(m^2/g) -0.433595  0.061329\n",
      "C%         -0.387439  0.032814\n",
      "H/C         0.430584  0.114770\n",
      "O/C        -0.432051  0.039238\n",
      "E           1.120777  0.080740\n",
      "S          -0.485551  0.037955\n",
      "A           0.596696  0.079286\n",
      "B          -0.402461  0.044300\n",
      "V          -0.381319  0.047352\n",
      "                         S2   S2_conf\n",
      "(BET(m^2/g), C%)   0.560054  0.063747\n",
      "(BET(m^2/g), H/C)  0.547596  0.121870\n",
      "(BET(m^2/g), O/C)  0.665730  0.078001\n",
      "(BET(m^2/g), E)   -0.537398  0.075698\n",
      "(BET(m^2/g), S)    0.695632  0.076806\n",
      "(BET(m^2/g), A)   -0.501220  0.093242\n",
      "(BET(m^2/g), B)    0.857826  0.082199\n",
      "(BET(m^2/g), V)    0.443993  0.077835\n",
      "(C%, H/C)         -0.561115  0.127757\n",
      "(C%, O/C)          1.048380  0.053871\n",
      "(C%, E)           -1.219937  0.097187\n",
      "(C%, S)            0.969236  0.046918\n",
      "(C%, A)           -0.648211  0.139383\n",
      "(C%, B)            0.493154  0.072120\n",
      "(C%, V)            1.132348  0.132621\n",
      "(H/C, O/C)        -0.026669  0.121515\n",
      "(H/C, E)          -1.388094  0.135363\n",
      "(H/C, S)          -0.050705  0.113814\n",
      "(H/C, A)          -1.069225  0.088233\n",
      "(H/C, B)           0.000979  0.121846\n",
      "(H/C, V)          -0.318978  0.096787\n",
      "(O/C, E)          -1.140241  0.099282\n",
      "(O/C, S)           1.266755  0.077612\n",
      "(O/C, A)          -0.644004  0.100850\n",
      "(O/C, B)           0.854155  0.060120\n",
      "(O/C, V)           0.464649  0.063613\n",
      "(E, S)            -0.864303  0.079222\n",
      "(E, A)            -1.141281  0.118802\n",
      "(E, B)            -0.862105  0.089129\n",
      "(E, V)            -0.616290  0.076571\n",
      "(S, A)            -0.644273  0.102583\n",
      "(S, B)             0.941043  0.060711\n",
      "(S, V)             0.338407  0.057768\n",
      "(A, B)            -0.153352  0.071723\n",
      "(A, V)            -0.060620  0.126426\n",
      "(B, V)             0.342166  0.071662\n",
      "                  ST   ST_conf\n",
      "BET(m^2/g)  1.795051  0.107197\n",
      "C%          0.840094  0.057658\n",
      "H/C         2.654065  0.141414\n",
      "O/C         0.522599  0.041369\n",
      "E           0.884514  0.062202\n",
      "S           1.218200  0.073430\n",
      "A           1.960079  0.108161\n",
      "B           0.788655  0.041316\n",
      "V           1.070383  0.061529\n",
      "                  S1   S1_conf\n",
      "BET(m^2/g)  0.442639  0.072207\n",
      "C%          0.261797  0.049823\n",
      "H/C         0.620157  0.087758\n",
      "O/C        -0.049864  0.052179\n",
      "E           0.348978  0.054048\n",
      "S           0.333120  0.064832\n",
      "A           0.546892  0.078138\n",
      "B           0.337395  0.052878\n",
      "V           0.284461  0.061251\n",
      "                         S2   S2_conf\n",
      "(BET(m^2/g), C%)  -0.271576  0.076522\n",
      "(BET(m^2/g), H/C) -1.372170  0.133959\n",
      "(BET(m^2/g), O/C)  0.381840  0.091619\n",
      "(BET(m^2/g), E)   -0.373809  0.084463\n",
      "(BET(m^2/g), S)   -0.588616  0.084331\n",
      "(BET(m^2/g), A)   -1.104058  0.114361\n",
      "(BET(m^2/g), B)   -0.308893  0.087634\n",
      "(BET(m^2/g), V)   -0.454102  0.093954\n",
      "(C%, H/C)          0.256914  0.099411\n",
      "(C%, O/C)         -0.628655  0.077751\n",
      "(C%, E)           -0.506740  0.063411\n",
      "(C%, S)           -0.336537  0.067867\n",
      "(C%, A)           -0.057955  0.077023\n",
      "(C%, B)           -0.490631  0.060988\n",
      "(C%, V)           -0.216612  0.066829\n",
      "(H/C, O/C)         0.281656  0.104830\n",
      "(H/C, E)          -0.491170  0.108006\n",
      "(H/C, S)          -0.722254  0.099237\n",
      "(H/C, A)          -1.270965  0.114393\n",
      "(H/C, B)          -0.579207  0.100686\n",
      "(H/C, V)          -0.645390  0.099090\n",
      "(O/C, E)          -0.068039  0.064857\n",
      "(O/C, S)           0.066736  0.074199\n",
      "(O/C, A)           0.164540  0.090447\n",
      "(O/C, B)          -0.174581  0.059338\n",
      "(O/C, V)           0.058623  0.064889\n",
      "(E, S)            -0.367146  0.077067\n",
      "(E, A)            -0.806387  0.093842\n",
      "(E, B)            -0.341898  0.066391\n",
      "(E, V)            -0.393378  0.071804\n",
      "(S, A)            -0.474229  0.106017\n",
      "(S, B)            -0.384784  0.061071\n",
      "(S, V)            -0.388526  0.077070\n",
      "(A, B)            -0.458361  0.090386\n",
      "(A, V)            -0.515690  0.092778\n",
      "(B, V)            -0.273771  0.063536\n",
      "                  ST   ST_conf\n",
      "BET(m^2/g)  1.264675  0.106893\n",
      "C%          1.251869  0.121928\n",
      "H/C         1.268178  0.104105\n",
      "O/C         1.117071  0.081210\n",
      "E           1.370986  0.114290\n",
      "S           1.348860  0.114683\n",
      "A           1.224403  0.112292\n",
      "B           0.756886  0.072076\n",
      "V           1.232033  0.091018\n",
      "                  S1   S1_conf\n",
      "BET(m^2/g) -0.127366  0.061832\n",
      "C%         -0.048231  0.062683\n",
      "H/C        -0.048782  0.063027\n",
      "O/C        -0.366851  0.067748\n",
      "E          -0.090508  0.067415\n",
      "S          -0.119681  0.074256\n",
      "A          -0.136118  0.058850\n",
      "B          -0.054331  0.056171\n",
      "V          -0.023035  0.065200\n",
      "                         S2   S2_conf\n",
      "(BET(m^2/g), C%)   0.325428  0.094538\n",
      "(BET(m^2/g), H/C)  0.082810  0.079599\n",
      "(BET(m^2/g), O/C)  0.053606  0.097060\n",
      "(BET(m^2/g), E)    0.072570  0.087551\n",
      "(BET(m^2/g), S)    0.102992  0.084779\n",
      "(BET(m^2/g), A)    0.284909  0.078379\n",
      "(BET(m^2/g), B)   -0.221869  0.102828\n",
      "(BET(m^2/g), V)    0.017749  0.090869\n",
      "(C%, H/C)          0.218676  0.081474\n",
      "(C%, O/C)          0.127944  0.083610\n",
      "(C%, E)            0.018701  0.086445\n",
      "(C%, S)            0.027590  0.087584\n",
      "(C%, A)            0.022694  0.080913\n",
      "(C%, B)           -0.249569  0.081412\n",
      "(C%, V)           -0.037464  0.080127\n",
      "(H/C, O/C)         1.022795  0.137639\n",
      "(H/C, E)          -0.229089  0.095980\n",
      "(H/C, S)          -0.179888  0.121203\n",
      "(H/C, A)          -0.243804  0.093784\n",
      "(H/C, B)           0.390786  0.112413\n",
      "(H/C, V)          -0.174863  0.092227\n",
      "(O/C, E)           0.581550  0.086339\n",
      "(O/C, S)           0.391779  0.083621\n",
      "(O/C, A)           0.370322  0.089511\n",
      "(O/C, B)           0.026496  0.117155\n",
      "(O/C, V)           0.217129  0.081754\n",
      "(E, S)             0.343087  0.108534\n",
      "(E, A)             0.135852  0.090803\n",
      "(E, B)            -0.299704  0.092016\n",
      "(E, V)            -0.041126  0.097991\n",
      "(S, A)             0.403520  0.080945\n",
      "(S, B)            -0.147922  0.090836\n",
      "(S, V)             0.030793  0.092534\n",
      "(A, B)             0.839891  0.114438\n",
      "(A, V)            -0.162086  0.097117\n",
      "(B, V)             0.174133  0.085492\n"
     ]
    }
   ],
   "source": [
    "from SALib.sample import saltelli\n",
    "from SALib.analyze import sobol\n",
    "from SALib.test_functions import Ishigami\n",
    "import numpy as np\n",
    "from scipy.stats.qmc import Halton\n",
    "import numpy as np\n",
    "\n",
    "# Define the problem\n",
    "problem = {\n",
    "    'num_vars': len(xx.columns),\n",
    "    'names': ['BET(m^2/g)', 'C%', 'H/C', 'O/C', 'E', 'S', 'A', 'B', 'V'],\n",
    "    'bounds': bounds.values.astype('float')\n",
    "}\n",
    "\n",
    "# Generate the samples\n",
    "N = 20480\n",
    "halton = Halton(d=problem['num_vars'])\n",
    "samples = halton.random(n=N)\n",
    "\n",
    "# Perform analysis\n",
    "Y_gpr2 = gpr.predict(samples) \n",
    "Y_svm2 = ga_svm.predict(samples) \n",
    "Y_xgbr2 = xgbr.predict(samples) \n",
    "\n",
    "Si_gpr2 = sobol.analyze(problem, Y_gpr2, print_to_console=True)\n",
    "total_Si_gpr, first_Si_gpr, second_Si_gpr = Si_gpr2.to_df()\n",
    "\n",
    "Si_svm2 = sobol.analyze(problem, Y_svm2, print_to_console=True)\n",
    "total_Si_svm, first_Si_svm, second_Si_svm = Si_svm2.to_df()\n",
    "\n",
    "Si_xgbr2 = sobol.analyze(problem, Y_xgbr2, print_to_console=True)\n",
    "total_Si_xgbr, first_Si_xgbr, second_Si_xgbr = Si_xgbr2.to_df()"
   ]
  },
  {
   "cell_type": "code",
   "execution_count": 23,
   "metadata": {},
   "outputs": [
    {
     "data": {
      "text/plain": [
       "<matplotlib.legend.Legend at 0x19904418250>"
      ]
     },
     "execution_count": 23,
     "metadata": {},
     "output_type": "execute_result"
    },
    {
     "data": {
      "image/png": "[encoded data removed]",
      "text/plain": [
       "<Figure size 1080x432 with 1 Axes>"
      ]
     },
     "metadata": {
      "needs_background": "light"
     },
     "output_type": "display_data"
    }
   ],
   "source": [
    "x = np.arange(len(total_Si_svm.index))  # the label locations\n",
    "width = 0.2  # the width of the bars\n",
    "\n",
    "fig, ax = plt.subplots(figsize=(15, 6))\n",
    "rects1 = ax.bar(x-width, abs(first_Si_svm['S1']), width, label='GA-SVM')\n",
    "rects2 = ax.bar(x, abs(first_Si_xgbr['S1']), width, label='XGBR')\n",
    "rects3 = ax.bar(x+width, abs(first_Si_gpr['S1']), width, label='GPR')\n",
    "\n",
    "# Add some text for labels, title and custom x-axis tick labels, etc.\n",
    "ax.set_ylabel('Sobol index')\n",
    "ax.set_title('first sobol values')\n",
    "ax.set_xticks(x)\n",
    "ax.set_xticklabels(total_Si_svm.index)\n",
    "ax.legend(loc='best')"
   ]
  },
  {
   "cell_type": "code",
   "execution_count": 24,
   "metadata": {},
   "outputs": [
    {
     "data": {
      "text/plain": [
       "<matplotlib.legend.Legend at 0x1990447ed00>"
      ]
     },
     "execution_count": 24,
     "metadata": {},
     "output_type": "execute_result"
    },
    {
     "data": {
      "image/png": "[encoded data removed]",
      "text/plain": [
       "<Figure size 1080x432 with 1 Axes>"
      ]
     },
     "metadata": {
      "needs_background": "light"
     },
     "output_type": "display_data"
    }
   ],
   "source": [
    "x = np.arange(len(total_Si_svm.index))  # the label locations\n",
    "width = 0.2  # the width of the bars\n",
    "\n",
    "fig, ax = plt.subplots(figsize=(15, 6))\n",
    "rects1 = ax.bar(x-width, total_Si_svm['ST'], width, label='GA-SVM')\n",
    "rects2 = ax.bar(x, total_Si_xgbr['ST'], width, label='XGBR')\n",
    "rects3 = ax.bar(x+width, total_Si_gpr['ST'], width, label='GPR')\n",
    "\n",
    "# Add some text for labels, title and custom x-axis tick labels, etc.\n",
    "ax.set_ylabel('Sobol index')\n",
    "ax.set_title('total sobol values')\n",
    "ax.set_xticks(x)\n",
    "ax.set_xticklabels(total_Si_svm.index)\n",
    "ax.legend(loc='best')"
   ]
  },
  {
   "cell_type": "code",
   "execution_count": 26,
   "metadata": {},
   "outputs": [],
   "source": [
    "df_sobol = pd.DataFrame(index=SA_GA_pred.index, columns = ['GPR','GA-SVM','XGB'])\n",
    "df_sobol['GPR'] = total_Si_gpr['ST'].values\n",
    "df_sobol['GA-SVM'] = total_Si_svm['ST'].values\n",
    "df_sobol['XGB'] = total_Si_xgbr['ST'].values\n",
    "\n"
   ]
  },
  {
   "cell_type": "markdown",
   "metadata": {},
   "source": [
    "# SHAP (SHapley Additive exPlanations)"
   ]
  },
  {
   "cell_type": "code",
   "execution_count": 27,
   "metadata": {},
   "outputs": [],
   "source": [
    "df_shap = pd.DataFrame(index=xx.columns, columns = ['ga_svm','gpr','xgbr'])"
   ]
  },
  {
   "cell_type": "code",
   "execution_count": 28,
   "metadata": {},
   "outputs": [
    {
     "name": "stderr",
     "output_type": "stream",
     "text": [
      "Using 142 background data samples could cause slower run times. Consider using shap.sample(data, K) or shap.kmeans(data, K) to summarize the background as K samples.\n"
     ]
    },
    {
     "data": {
      "application/vnd.jupyter.widget-view+json": {
       "model_id": "eb0759871f9c4f7b9dfdc71eecf183db",
       "version_major": 2,
       "version_minor": 0
      },
      "text/plain": [
       "HBox(children=(HTML(value=''), FloatProgress(value=0.0, max=142.0), HTML(value='')))"
      ]
     },
     "metadata": {},
     "output_type": "display_data"
    },
    {
     "name": "stdout",
     "output_type": "stream",
     "text": [
      "\n"
     ]
    },
    {
     "data": {
      "image/png": "[encoded data removed]",
      "text/plain": [
       "<Figure size 576x367.2 with 1 Axes>"
      ]
     },
     "metadata": {
      "needs_background": "light"
     },
     "output_type": "display_data"
    }
   ],
   "source": [
    "import shap\n",
    "\n",
    "explainer = shap.KernelExplainer(ga_svm.predict, x_test)\n",
    "shap_values_ga_svm = explainer.shap_values(x_test)\n",
    "df_shap['ga_svm'] = np.average(abs(shap_values_ga_svm),0)\n",
    "shap.summary_plot(shap_values_ga_svm,  xx, plot_type=\"bar\")"
   ]
  },
  {
   "cell_type": "code",
   "execution_count": 29,
   "metadata": {},
   "outputs": [
    {
     "name": "stderr",
     "output_type": "stream",
     "text": [
      "Using 142 background data samples could cause slower run times. Consider using shap.sample(data, K) or shap.kmeans(data, K) to summarize the background as K samples.\n"
     ]
    },
    {
     "data": {
      "application/vnd.jupyter.widget-view+json": {
       "model_id": "de73ce1e7fb442838b4c86a038d46f11",
       "version_major": 2,
       "version_minor": 0
      },
      "text/plain": [
       "HBox(children=(HTML(value=''), FloatProgress(value=0.0, max=142.0), HTML(value='')))"
      ]
     },
     "metadata": {},
     "output_type": "display_data"
    },
    {
     "name": "stdout",
     "output_type": "stream",
     "text": [
      "\n"
     ]
    },
    {
     "data": {
      "image/png": "[encoded data removed]",
      "text/plain": [
       "<Figure size 576x367.2 with 1 Axes>"
      ]
     },
     "metadata": {
      "needs_background": "light"
     },
     "output_type": "display_data"
    }
   ],
   "source": [
    "explainer = shap.KernelExplainer(gpr.predict,  x_test)\n",
    "shap_values_gpr = explainer.shap_values(x_test)\n",
    "# visualize the first prediction's explanation\n",
    "df_shap['gpr'] = np.average(abs(shap_values_gpr),0)\n",
    "shap.summary_plot(shap_values_gpr,  xx, plot_type=\"bar\")"
   ]
  },
  {
   "cell_type": "code",
   "execution_count": 30,
   "metadata": {},
   "outputs": [],
   "source": [
    "df_shap['gpr'] = np.average(abs(shap_values_gpr),0)"
   ]
  },
  {
   "cell_type": "code",
   "execution_count": 31,
   "metadata": {},
   "outputs": [
    {
     "name": "stderr",
     "output_type": "stream",
     "text": [
      "ntree_limit is deprecated, use `iteration_range` or model slicing instead.\n"
     ]
    },
    {
     "data": {
      "image/png": "[encoded data removed]",
      "text/plain": [
       "<Figure size 576x432 with 1 Axes>"
      ]
     },
     "metadata": {},
     "output_type": "display_data"
    }
   ],
   "source": [
    "# explain the model's predictions using SHAP\n",
    "# (same syntax works for LightGBM, CatBoost, scikit-learn, transformers, Spark, etc.)\n",
    "explainer = shap.Explainer(xgbr)\n",
    "shap_values_xgr = explainer(x_test)\n",
    "df_shap['xgbr'] = np.average(abs(shap_values_xgr.values),0)\n",
    "# visualize the first prediction's explanation\n",
    "shap.plots.bar(shap_values_xgr)"
   ]
  },
  {
   "cell_type": "code",
   "execution_count": 32,
   "metadata": {},
   "outputs": [
    {
     "data": {
      "text/plain": [
       "<matplotlib.legend.Legend at 0x199067189a0>"
      ]
     },
     "execution_count": 32,
     "metadata": {},
     "output_type": "execute_result"
    },
    {
     "data": {
      "image/png": "[encoded data removed]",
      "text/plain": [
       "<Figure size 1080x432 with 1 Axes>"
      ]
     },
     "metadata": {
      "needs_background": "light"
     },
     "output_type": "display_data"
    }
   ],
   "source": [
    "x = np.arange(len(df_shap.index))  # the label locations\n",
    "width = 0.2  # the width of the bars\n",
    "\n",
    "fig, ax = plt.subplots(figsize=(15, 6))\n",
    "rects1 = ax.bar(x-width, df_shap['ga_svm'], width, label='GA-SVM')\n",
    "rects2 = ax.bar(x, df_shap['xgbr'], width, label='XGBR')\n",
    "rects3 = ax.bar(x+width, df_shap['gpr'], width, label='GPR')\n",
    "\n",
    "# Add some text for labels, title and custom x-axis tick labels, etc.\n",
    "ax.set_ylabel('shap value')\n",
    "ax.set_title('SHapley Additive exPlanations')\n",
    "ax.set_xticks(x)\n",
    "ax.set_xticklabels(df_shap.index)\n",
    "ax.legend(loc='best')"
   ]
  },
  {
   "cell_type": "code",
   "execution_count": 33,
   "metadata": {},
   "outputs": [
    {
     "data": {
      "text/html": [
       "<div>\n",
       "<style scoped>\n",
       "    .dataframe tbody tr th:only-of-type {\n",
       "        vertical-align: middle;\n",
       "    }\n",
       "\n",
       "    .dataframe tbody tr th {\n",
       "        vertical-align: top;\n",
       "    }\n",
       "\n",
       "    .dataframe thead th {\n",
       "        text-align: right;\n",
       "    }\n",
       "</style>\n",
       "<table border=\"1\" class=\"dataframe\">\n",
       "  <thead>\n",
       "    <tr style=\"text-align: right;\">\n",
       "      <th></th>\n",
       "      <th>ga_svm</th>\n",
       "      <th>gpr</th>\n",
       "      <th>xgbr</th>\n",
       "    </tr>\n",
       "  </thead>\n",
       "  <tbody>\n",
       "    <tr>\n",
       "      <th>SSA</th>\n",
       "      <td>0.008433</td>\n",
       "      <td>0.016220</td>\n",
       "      <td>0.023532</td>\n",
       "    </tr>\n",
       "    <tr>\n",
       "      <th>C%</th>\n",
       "      <td>0.034466</td>\n",
       "      <td>0.000000</td>\n",
       "      <td>0.019271</td>\n",
       "    </tr>\n",
       "    <tr>\n",
       "      <th>H/C</th>\n",
       "      <td>0.031898</td>\n",
       "      <td>0.029675</td>\n",
       "      <td>0.009771</td>\n",
       "    </tr>\n",
       "    <tr>\n",
       "      <th>O/C</th>\n",
       "      <td>0.017619</td>\n",
       "      <td>0.030426</td>\n",
       "      <td>0.014177</td>\n",
       "    </tr>\n",
       "    <tr>\n",
       "      <th>E</th>\n",
       "      <td>0.027303</td>\n",
       "      <td>0.015023</td>\n",
       "      <td>0.020949</td>\n",
       "    </tr>\n",
       "    <tr>\n",
       "      <th>S</th>\n",
       "      <td>0.000017</td>\n",
       "      <td>0.000002</td>\n",
       "      <td>0.012643</td>\n",
       "    </tr>\n",
       "    <tr>\n",
       "      <th>A</th>\n",
       "      <td>0.020502</td>\n",
       "      <td>0.025879</td>\n",
       "      <td>0.014307</td>\n",
       "    </tr>\n",
       "    <tr>\n",
       "      <th>B</th>\n",
       "      <td>0.053497</td>\n",
       "      <td>0.076480</td>\n",
       "      <td>0.066804</td>\n",
       "    </tr>\n",
       "    <tr>\n",
       "      <th>V</th>\n",
       "      <td>0.018562</td>\n",
       "      <td>0.030766</td>\n",
       "      <td>0.012226</td>\n",
       "    </tr>\n",
       "  </tbody>\n",
       "</table>\n",
       "</div>"
      ],
      "text/plain": [
       "       ga_svm       gpr      xgbr\n",
       "SSA  0.008433  0.016220  0.023532\n",
       "C%   0.034466  0.000000  0.019271\n",
       "H/C  0.031898  0.029675  0.009771\n",
       "O/C  0.017619  0.030426  0.014177\n",
       "E    0.027303  0.015023  0.020949\n",
       "S    0.000017  0.000002  0.012643\n",
       "A    0.020502  0.025879  0.014307\n",
       "B    0.053497  0.076480  0.066804\n",
       "V    0.018562  0.030766  0.012226"
      ]
     },
     "execution_count": 33,
     "metadata": {},
     "output_type": "execute_result"
    }
   ],
   "source": [
    "df_shap"
   ]
  },
  {
   "cell_type": "code",
   "execution_count": null,
   "metadata": {},
   "outputs": [],
   "source": []
  }
 ],
 "metadata": {
  "kernelspec": {
   "display_name": "Python 3",
   "language": "python",
   "name": "python3"
  },
  "language_info": {
   "codemirror_mode": {
    "name": "ipython",
    "version": 3
   },
   "file_extension": ".py",
   "mimetype": "text/x-python",
   "name": "python",
   "nbconvert_exporter": "python",
   "pygments_lexer": "ipython3",
   "version": "3.8.5"
  }
 },
 "nbformat": 4,
 "nbformat_minor": 4
}

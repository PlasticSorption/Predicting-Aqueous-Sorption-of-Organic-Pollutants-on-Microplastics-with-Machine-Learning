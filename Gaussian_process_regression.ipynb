{
 "cells": [
  {
   "cell_type": "code",
   "execution_count": 1,
   "metadata": {},
   "outputs": [
    {
     "name": "stderr",
     "output_type": "stream",
     "text": [
      "C:\\Users\\mero_\\AppData\\Roaming\\Python\\Python38\\site-packages\\scipy\\__init__.py:173: UserWarning: A NumPy version >=1.19.5 and <1.27.0 is required for this version of SciPy (detected version 1.19.2)\n",
      "  warnings.warn(f\"A NumPy version >={np_minversion} and <{np_maxversion}\"\n"
     ]
    }
   ],
   "source": [
    "%matplotlib inline\n",
    "import matplotlib.pyplot as plt\n",
    "plt.rcParams[\"figure.figsize\"] = (11, 11)  #set default figure size\n",
    "import numpy as np\n",
    "import os \n",
    "import pandas as pd\n",
    "import seaborn as sns\n",
    "from sklearn.model_selection import train_test_split\n",
    "from sklearn.preprocessing import StandardScaler, MinMaxScaler\n",
    "from sklearn.gaussian_process import GaussianProcessRegressor\n",
    "from sklearn.gaussian_process.kernels import RBF, WhiteKernel, DotProduct, ConstantKernel as C\n",
    "from sklearn.metrics import mean_absolute_error,mean_squared_error,r2_score\n",
    "from scipy.optimize import leastsq\n",
    "import matplotlib.pylab as plt\n",
    "from sklearn import preprocessing"
   ]
  },
  {
   "cell_type": "code",
   "execution_count": 2,
   "metadata": {},
   "outputs": [],
   "source": [
    "def mean_absolute_percentage_error(y, y_pred) :\n",
    "    \n",
    "    if np.where(y==0)[0] != np.nan:\n",
    "        ind = np.where(y==0)[0]\n",
    "        y = np.delete(y, ind)\n",
    "        y_pred = np.delete(y_pred, ind)\n",
    "    MAPE = 100*np.average(abs(y_pred)/abs(y))\n",
    "    return MAPE"
   ]
  },
  {
   "cell_type": "code",
   "execution_count": 3,
   "metadata": {},
   "outputs": [],
   "source": [
    "## Seperate training and test data\n",
    "def split(xx, yy):\n",
    "    zscore = StandardScaler()        \n",
    "    scaler =MinMaxScaler()   \n",
    "    xx = zscore.fit_transform(xx)  \n",
    "    yy = scaler.fit_transform(np.reshape(yy.values,(len(yy),1))) \n",
    "    x_train, x_test_val, y_train, y_test_val = train_test_split(xx, yy, shuffle=True,test_size=0.4, random_state=1)\n",
    "    x_test, x_val, y_test, y_val = train_test_split(x_test_val, y_test_val, shuffle=True,test_size=0.25, random_state=1)\n",
    "    y2 = yy.ravel()\n",
    "    ind_train = [np.argwhere(y2 == y_train[i])[0].item() for i in range(len(y_train)) if y_train[i] in y2]\n",
    "    ind_test = [np.argwhere(y2 == y_test[i])[0].item() for i in range(len(y_test)) if y_test[i] in y2]\n",
    "    ind_val = [np.argwhere(y2 == y_val[i])[0].item() for i in range(len(y_val)) if y_val[i] in y2]\n",
    "    y_train = y_train.ravel()\n",
    "    y_test = y_test.ravel()\n",
    "    y_val = y_val.ravel()\n",
    "    return x_train, x_test,x_val, y_train, y_test,y_val, xx, yy, np.asarray(ind_train), np.asarray(ind_test), np.asarray(ind_val)"
   ]
  },
  {
   "cell_type": "code",
   "execution_count": 4,
   "metadata": {},
   "outputs": [],
   "source": [
    "def scatter_plots(model_name,y_pred, y_pred_train, y_pred_test, y_pred_val, yy, y_scaled, y_train, y_test, y_val) :\n",
    "    R2_score = r2_score(y_scaled,y_pred)\n",
    "    y_pred2 = inverse_scaler(y_pred,yy)\n",
    "    y_pred_train2 = inverse_scaler(y_pred_train,yy)\n",
    "    y_pred_test2 = inverse_scaler(y_pred_test,yy)\n",
    "    y_pred_val2 = inverse_scaler(y_pred_val,yy)\n",
    "    plt.scatter(inverse_scaler(y_train,yy),y_pred_train2, label='train')\n",
    "    plt.scatter(inverse_scaler(y_test,yy),y_pred_test2, label='test')\n",
    "    plt.scatter(inverse_scaler(y_val,yy),y_pred_val2, label='val')\n",
    "    plt.plot(np.linspace(0.1,10,10),np.linspace(0.1,10,10),c='r', label='1:1')\n",
    "    labels = df.index\n",
    "    values = []\n",
    "    drop_ind = []\n",
    "    i = 0\n",
    "    for label in labels:\n",
    "        if np.round(y_pred2[i],2) not in values :\n",
    "            values.append(np.round(y_pred2[i],3))\n",
    "            a = 5\n",
    "        else:\n",
    "            a = a + 15\n",
    "        pos = (a, a)\n",
    "        plt.annotate(label, xy=(yy[label],y_pred2[i]),xytext=pos, textcoords='offset points', ha='left', va='bottom',size=20)\n",
    "        i = i+1\n",
    "    plt.title(model_name)\n",
    "    plt.legend()\n",
    "    plt.xlabel('True values')\n",
    "    plt.ylabel('predictive values')"
   ]
  },
  {
   "cell_type": "code",
   "execution_count": 6,
   "metadata": {},
   "outputs": [
    {
     "name": "stdout",
     "output_type": "stream",
     "text": [
      "original datasize: (475, 11)\n",
      "adjusted datasize: (474, 11)\n",
      "data:\n",
      "           Kd   SSA        C%       H/C       O/C     E     S     A     B  \\\n",
      "0   24.014337  0.04  0.683575  0.147232  0.157833  1.73  1.55  0.47  0.45   \n",
      "1   37.981913  0.04  0.632581  0.139353  0.220736  1.73  1.55  0.47  0.45   \n",
      "2   50.563768  0.04  0.592297  0.132170  0.278086  1.73  1.55  0.47  0.45   \n",
      "3  103.582271  0.04  0.444276  0.094589  0.578131  1.73  1.55  0.47  0.45   \n",
      "4   66.880171  0.04  0.654811  0.142939  0.192110  1.73  1.55  0.47  0.45   \n",
      "\n",
      "        V   log(Kd)  \n",
      "0  1.8088  1.380471  \n",
      "1  1.8088  1.579577  \n",
      "2  1.8088  1.703839  \n",
      "3  1.8088  2.015285  \n",
      "4  1.8088  1.825297  \n"
     ]
    }
   ],
   "source": [
    "df = pd.read_csv('data_6.csv', index_col=None, engine='c') \n",
    "print('original datasize:', df.shape)\n",
    "df.dropna(inplace=True)\n",
    "print('adjusted datasize:', df.shape)\n",
    "print('data:')\n",
    "print(df.head())"
   ]
  },
  {
   "cell_type": "code",
   "execution_count": 7,
   "metadata": {},
   "outputs": [
    {
     "name": "stdout",
     "output_type": "stream",
     "text": [
      "target is  log(Kd)\n",
      "predictors are  ['SSA', 'C%', 'H/C', 'O/C', 'E', 'S', 'A', 'B', 'V']\n",
      "samples size is  474 ; number of predictors is  9\n",
      "training data size is  284 ; test data size is  142 ; validation data size is  48\n"
     ]
    }
   ],
   "source": [
    "yy=df.iloc[:,-1]# target - kd\n",
    "xx= df.iloc[:,1:-1] # predictors\n",
    "x_train, x_test,x_val, y_train, y_test,y_val, x_scaled, y_scaled, ind_train, ind_test,ind_val = split(xx, yy)\n",
    "\n",
    "\n",
    "print('target is ', yy.name)\n",
    "print('predictors are ', xx.columns.tolist())\n",
    "print('samples size is ', xx.shape[0], '; number of predictors is ', xx.shape[1])\n",
    "print('training data size is ', x_train.shape[0], '; test data size is ', x_test.shape[0],'; validation data size is ', x_val.shape[0])"
   ]
  },
  {
   "cell_type": "code",
   "execution_count": null,
   "metadata": {},
   "outputs": [],
   "source": [
    "d = np.ones(x_train.shape[1])\n",
    "kernel = C(1.0, (1e-2, 1e2)) * RBF(d,(1e-6, 1e6))+ WhiteKernel(noise_level=0.5)\n",
    "#kernel =DotProduct(sigma_0=0, sigma_0_bounds='fixed')+WhiteKernel(0.001)\n",
    "gpr = GaussianProcessRegressor(kernel=kernel, random_state=0, n_restarts_optimizer=100).fit(x_train, y_train)"
   ]
  },
  {
   "cell_type": "code",
   "execution_count": null,
   "metadata": {},
   "outputs": [],
   "source": [
    "y_pred = gpr.predict(x_scaled)\n",
    "scatter_plots('GPR',y_pred, y_pred_train, y_pred_test, y_pred_val, yy, y_scaled, y_train, y_test, y_val) "
   ]
  },
  {
   "cell_type": "code",
   "execution_count": null,
   "metadata": {},
   "outputs": [],
   "source": [
    "import pickle\n",
    "# save gpr model\n",
    "model_name = 'gpr.pkl' # 模型名称.plk\n",
    "path =''\n",
    "with open(path+'gpr.pkl','wb') as f:\n",
    "    pickle.dump(gpr, f)"
   ]
  }
 ],
 "metadata": {
  "kernelspec": {
   "display_name": "Python 3",
   "language": "python",
   "name": "python3"
  },
  "language_info": {
   "codemirror_mode": {
    "name": "ipython",
    "version": 3
   },
   "file_extension": ".py",
   "mimetype": "text/x-python",
   "name": "python",
   "nbconvert_exporter": "python",
   "pygments_lexer": "ipython3",
   "version": "3.8.5"
  }
 },
 "nbformat": 4,
 "nbformat_minor": 4
}
